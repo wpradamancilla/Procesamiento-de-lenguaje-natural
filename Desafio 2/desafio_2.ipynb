{
     "cells": [
      {
       "cell_type": "markdown",
       "metadata": {},
       "source": [
        "# Desafío 2: Chatbot Basado en LSTM para Preguntas y Respuestas"
       ]
      },
      {
       "cell_type": "code",
       "execution_count": null,
       "metadata": {},
       "outputs": [],
       "source": [
        "# Código para entrenar el chatbot basado en LSTM\n",
        "import torch\n",
        "# Agrega tu código aquí..."
       ]
      }
     ],
     "metadata": {
      "kernelspec": {
       "display_name": "Python 3",
       "language": "python",
       "name": "python3"
      },
      "language_info": {
       "codemirror_mode": {
        "name": "ipython",
        "version": 3
       },
       "file_extension": ".py",
       "mimetype": "text/x-python",
       "name": "python",
       "nbconvert_exporter": "python",
       "pygments_lexer": "ipython3",
       "version": "3.8.5"
      }
     },
     "nbformat": 4,
     "nbformat_minor": 4
    }